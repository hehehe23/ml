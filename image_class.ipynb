{
 "cells": [
  {
   "cell_type": "code",
   "execution_count": 1,
   "metadata": {
    "colab": {},
    "colab_type": "code",
    "id": "sdpc6ikIFRvL"
   },
   "outputs": [
    {
     "ename": "ModuleNotFoundError",
     "evalue": "No module named 'tensorflow.python.tools'; 'tensorflow.python' is not a package",
     "output_type": "error",
     "traceback": [
      "\u001b[1;31m---------------------------------------------------------------------------\u001b[0m",
      "\u001b[1;31mModuleNotFoundError\u001b[0m                       Traceback (most recent call last)",
      "\u001b[1;32m<ipython-input-1-07cd85534c44>\u001b[0m in \u001b[0;36m<module>\u001b[1;34m\u001b[0m\n\u001b[0;32m      2\u001b[0m \u001b[1;32mimport\u001b[0m \u001b[0mnumpy\u001b[0m \u001b[1;32mas\u001b[0m \u001b[0mnp\u001b[0m\u001b[1;33m\u001b[0m\u001b[1;33m\u001b[0m\u001b[0m\n\u001b[0;32m      3\u001b[0m \u001b[1;33m\u001b[0m\u001b[0m\n\u001b[1;32m----> 4\u001b[1;33m \u001b[1;32mimport\u001b[0m \u001b[0mtensorflow\u001b[0m \u001b[1;32mas\u001b[0m \u001b[0mtf\u001b[0m\u001b[1;33m\u001b[0m\u001b[1;33m\u001b[0m\u001b[0m\n\u001b[0m\u001b[0;32m      5\u001b[0m \u001b[1;32mimport\u001b[0m \u001b[0mtensorflow_datasets\u001b[0m \u001b[1;32mas\u001b[0m \u001b[0mtfds\u001b[0m\u001b[1;33m\u001b[0m\u001b[1;33m\u001b[0m\u001b[0m\n\u001b[0;32m      6\u001b[0m \u001b[1;32mfrom\u001b[0m \u001b[0mtensorflow\u001b[0m \u001b[1;32mimport\u001b[0m \u001b[0mkeras\u001b[0m\u001b[1;33m\u001b[0m\u001b[1;33m\u001b[0m\u001b[0m\n",
      "\u001b[1;32m~\\Anaconda3\\envs\\yep\\lib\\site-packages\\tensorflow\\__init__.py\u001b[0m in \u001b[0;36m<module>\u001b[1;34m\u001b[0m\n\u001b[0;32m     99\u001b[0m \u001b[1;33m\u001b[0m\u001b[0m\n\u001b[0;32m    100\u001b[0m \u001b[1;31m# We still need all the names that are toplevel on tensorflow_core\u001b[0m\u001b[1;33m\u001b[0m\u001b[1;33m\u001b[0m\u001b[1;33m\u001b[0m\u001b[0m\n\u001b[1;32m--> 101\u001b[1;33m \u001b[1;32mfrom\u001b[0m \u001b[0mtensorflow_core\u001b[0m \u001b[1;32mimport\u001b[0m \u001b[1;33m*\u001b[0m\u001b[1;33m\u001b[0m\u001b[1;33m\u001b[0m\u001b[0m\n\u001b[0m\u001b[0;32m    102\u001b[0m \u001b[1;33m\u001b[0m\u001b[0m\n\u001b[0;32m    103\u001b[0m \u001b[1;31m# These should not be visible in the main tf module.\u001b[0m\u001b[1;33m\u001b[0m\u001b[1;33m\u001b[0m\u001b[1;33m\u001b[0m\u001b[0m\n",
      "\u001b[1;32m~\\Anaconda3\\envs\\yep\\lib\\site-packages\\tensorflow_core\\__init__.py\u001b[0m in \u001b[0;36m<module>\u001b[1;34m\u001b[0m\n\u001b[0;32m     38\u001b[0m \u001b[1;32mimport\u001b[0m \u001b[0msys\u001b[0m \u001b[1;32mas\u001b[0m \u001b[0m_sys\u001b[0m\u001b[1;33m\u001b[0m\u001b[1;33m\u001b[0m\u001b[0m\n\u001b[0;32m     39\u001b[0m \u001b[1;33m\u001b[0m\u001b[0m\n\u001b[1;32m---> 40\u001b[1;33m \u001b[1;32mfrom\u001b[0m \u001b[0mtensorflow\u001b[0m\u001b[1;33m.\u001b[0m\u001b[0mpython\u001b[0m\u001b[1;33m.\u001b[0m\u001b[0mtools\u001b[0m \u001b[1;32mimport\u001b[0m \u001b[0mmodule_util\u001b[0m \u001b[1;32mas\u001b[0m \u001b[0m_module_util\u001b[0m\u001b[1;33m\u001b[0m\u001b[1;33m\u001b[0m\u001b[0m\n\u001b[0m\u001b[0;32m     41\u001b[0m \u001b[1;33m\u001b[0m\u001b[0m\n\u001b[0;32m     42\u001b[0m \u001b[1;32mfrom\u001b[0m \u001b[1;33m.\u001b[0m \u001b[0m_api\u001b[0m\u001b[1;33m.\u001b[0m\u001b[0mv2\u001b[0m \u001b[1;32mimport\u001b[0m \u001b[0maudio\u001b[0m\u001b[1;33m\u001b[0m\u001b[1;33m\u001b[0m\u001b[0m\n",
      "\u001b[1;31mModuleNotFoundError\u001b[0m: No module named 'tensorflow.python.tools'; 'tensorflow.python' is not a package"
     ]
    }
   ],
   "source": [
    "import matplotlib.pyplot as plt\n",
    "import numpy as np\n",
    "\n",
    "import tensorflow as tf\n",
    "import tensorflow_datasets as tfds\n",
    "from tensorflow import keras"
   ]
  },
  {
   "cell_type": "code",
   "execution_count": null,
   "metadata": {
    "colab": {},
    "colab_type": "code",
    "id": "VkXXYNQyDrUP"
   },
   "outputs": [],
   "source": [
    "data = 'horses_or_humans'\n",
    "builder = tfds.builder(data)\n",
    "info = builder.info"
   ]
  },
  {
   "cell_type": "code",
   "execution_count": null,
   "metadata": {
    "colab": {
     "base_uri": "https://localhost:8080/",
     "height": 451
    },
    "colab_type": "code",
    "id": "ovCTf1l_LZUt",
    "outputId": "2c882ef0-8c99-43be-ca79-031f3f148c84"
   },
   "outputs": [],
   "source": [
    "print(info)"
   ]
  },
  {
   "cell_type": "code",
   "execution_count": null,
   "metadata": {
    "colab": {},
    "colab_type": "code",
    "id": "ZIhG0tl3DZ-z"
   },
   "outputs": [],
   "source": [
    "#prep\n",
    "training_data = tfds.load(name=data, split='train')\n",
    "test_data = tfds.load(name=data, split='test')\n"
   ]
  },
  {
   "cell_type": "code",
   "execution_count": null,
   "metadata": {
    "colab": {
     "base_uri": "https://localhost:8080/",
     "height": 534
    },
    "colab_type": "code",
    "id": "Gknfz3PsHUZr",
    "outputId": "c6d3c119-91e5-4cff-b6fc-ad9aec76fba5"
   },
   "outputs": [],
   "source": [
    "#thinking\n",
    "\n",
    "some_picture = tfds.show_examples(info, training_data)\n"
   ]
  },
  {
   "cell_type": "code",
   "execution_count": null,
   "metadata": {
    "colab": {},
    "colab_type": "code",
    "id": "r2HMKyAXK1b8"
   },
   "outputs": [],
   "source": [
    "#more prep pgn to numpy array\n",
    "train_images = np.array([example['image'].numpy()[:,:,0] for example in training_data])\n",
    "train_labels = np.array([example['label'].numpy() for example in training_data])\n",
    "\n",
    "test_images = np.array([example['image'].numpy()[:,:,0] for example in test_data])\n",
    "test_labels = np.array([example['label'].numpy() for example in test_data])\n"
   ]
  },
  {
   "cell_type": "code",
   "execution_count": null,
   "metadata": {
    "colab": {
     "base_uri": "https://localhost:8080/",
     "height": 52
    },
    "colab_type": "code",
    "id": "BGr0dObEMM0a",
    "outputId": "a30e2f66-7838-4333-8bac-7435dceda9d5"
   },
   "outputs": [],
   "source": [
    "print(train_images.shape)\n",
    "print(test_images.shape)"
   ]
  },
  {
   "cell_type": "code",
   "execution_count": null,
   "metadata": {
    "colab": {},
    "colab_type": "code",
    "id": "SuQ_3lIYNY7H"
   },
   "outputs": [],
   "source": [
    "train_images = train_images.reshape(1027, 300, 300, 1)\n",
    "test_images = test_images.reshape(256, 300, 300, 1)\n",
    "\n",
    "train_images = train_images.astype('float32')\n",
    "test_images = test_images.astype('float32')\n",
    "\n",
    "train_images /= 255\n",
    "test_images /= 255"
   ]
  },
  {
   "cell_type": "code",
   "execution_count": null,
   "metadata": {
    "colab": {
     "base_uri": "https://localhost:8080/",
     "height": 382
    },
    "colab_type": "code",
    "id": "mFqwEGfHMq_l",
    "outputId": "a6326cbe-79b8-4d2f-a9c4-bf23b2a29e5b"
   },
   "outputs": [],
   "source": [
    "#create model\n",
    "model = keras.Sequential([\n",
    "  keras.layers.Flatten(),\n",
    "  keras.layers.Dense(512, activation='relu'),\n",
    "  keras.layers.Dense(256, activation='relu'),\n",
    "  keras.layers.Dense(3, activation='softmax')\n",
    "])\n",
    "\n",
    "model.compile(optimizer='adam',\n",
    "              loss=keras.losses.SparseCategoricalCrossentropy(),\n",
    "              metrics=['accuracy'])\n",
    "\n",
    "model.fit(train_images, train_labels, epochs=10, batch_size=32)\n"
   ]
  },
  {
   "cell_type": "code",
   "execution_count": null,
   "metadata": {
    "colab": {
     "base_uri": "https://localhost:8080/",
     "height": 52
    },
    "colab_type": "code",
    "id": "k1DFg_JgMREf",
    "outputId": "25855a6f-2b19-4a3a-8900-d0470a5b80a3"
   },
   "outputs": [],
   "source": [
    "model.evaluate(test_images, test_labels)"
   ]
  },
  {
   "cell_type": "code",
   "execution_count": null,
   "metadata": {
    "colab": {
     "base_uri": "https://localhost:8080/",
     "height": 436
    },
    "colab_type": "code",
    "id": "cef1dVlHVm8y",
    "outputId": "f1a6ccd4-368a-43b7-b2f5-7d466e1735ca"
   },
   "outputs": [],
   "source": [
    "#convolutional\n",
    "\n",
    "model = keras.Sequential([\n",
    "  keras.layers.Conv2D(80, 2, activation='relu', input_shape=(300,300,1)),\n",
    "  keras.layers.Conv2D(40, 2, activation='relu'),\n",
    "  keras.layers.Flatten(),\n",
    "  keras.layers.Dense(3, activation='softmax')\n",
    "])\n",
    "\n",
    "model.compile(optimizer='adam',\n",
    "              loss=keras.losses.SparseCategoricalCrossentropy(),\n",
    "              metrics=['accuracy'])\n",
    "\n",
    "model.fit(train_images, train_labels, epochs=10, batch_size=32)\n",
    "\n"
   ]
  },
  {
   "cell_type": "code",
   "execution_count": null,
   "metadata": {
    "colab": {
     "base_uri": "https://localhost:8080/",
     "height": 106
    },
    "colab_type": "code",
    "id": "VfNcyt0kYMt4",
    "outputId": "c004a2d5-3cf7-4445-fe7c-bcf36a407b46"
   },
   "outputs": [],
   "source": [
    "model.evaluate(test_images, test_labels)"
   ]
  },
  {
   "cell_type": "code",
   "execution_count": null,
   "metadata": {
    "colab": {
     "base_uri": "https://localhost:8080/",
     "height": 243
    },
    "colab_type": "code",
    "id": "40AQrGNiZzh3",
    "outputId": "a31ecf60-176c-4d1d-fc4a-3c166bab8e0a"
   },
   "outputs": [],
   "source": [
    "#2.nd conv\n",
    "model = keras.Sequential([\n",
    "  keras.layers.AveragePooling2D(6,3, input_shape=(300,300,1)),\n",
    "  keras.layers.Conv2D(100, 2, activation='relu'),\n",
    "  keras.layers.Conv2D(50, 2, activation='relu'),\n",
    "  keras.layers.MaxPool2D(2,2),\n",
    "  keras.layers.Dropout(0.5),\n",
    "  keras.layers.Flatten(),\n",
    "  keras.layers.Dense(128, activation='relu'),\n",
    "  keras.layers.Dense(3, activation='softmax')\n",
    "])\n",
    "\n",
    "model.compile(optimizer='adam',\n",
    "              loss=keras.losses.SparseCategoricalCrossentropy(),\n",
    "              metrics=['accuracy'])\n",
    "\n",
    "model.fit(train_images, train_labels, epochs=10, batch_size=32)\n",
    "\n"
   ]
  },
  {
   "cell_type": "code",
   "execution_count": null,
   "metadata": {
    "colab": {
     "base_uri": "https://localhost:8080/",
     "height": 52
    },
    "colab_type": "code",
    "id": "fzMsmJvdbUkG",
    "outputId": "9d041679-e6cd-48e3-8bfe-450f1f36db12"
   },
   "outputs": [],
   "source": [
    "model.evaluate(test_images, test_labels)"
   ]
  },
  {
   "cell_type": "code",
   "execution_count": null,
   "metadata": {
    "colab": {
     "base_uri": "https://localhost:8080/",
     "height": 521
    },
    "colab_type": "code",
    "id": "kLFMii_PbY5v",
    "outputId": "86460a4b-187e-43e5-cc94-f6cc456e2fe1"
   },
   "outputs": [],
   "source": [
    "pip install -U keras-tuner"
   ]
  },
  {
   "cell_type": "code",
   "execution_count": null,
   "metadata": {
    "colab": {
     "base_uri": "https://localhost:8080/",
     "height": 1000
    },
    "colab_type": "code",
    "id": "xzwsmFVQdU6D",
    "outputId": "27a05dfe-997f-42fe-d34b-0d71129d8145"
   },
   "outputs": [],
   "source": [
    "#hyperparameter\n",
    "from kerastuner.tuners import RandomSearch\n",
    "\n",
    "def x_model(hp):\n",
    "  model = keras.Sequential()\n",
    "\n",
    "  model.add(keras.layers.AveragePooling2D(6,3,input_shape=(300,300,1)))\n",
    "\n",
    "  for i in range(hp.Int(\"Conv Layers\", min_value=0, max_value=3)):\n",
    "    model.add(keras.layers.Conv2D(hp.Choice(f\"layer_{i}_filters\", [16,32,64]), 3, activation='relu')) \n",
    "  model.add(keras.layers.MaxPool2D(2,2))\n",
    "  model.add(keras.layers.Dropout(0.40))\n",
    "  model.add(keras.layers.Flatten())\n",
    "  model.add(keras.layers.Dense(hp.Choice(\"Dense layer\", [64, 128, 256, 512, 1024]), activation='relu'))\n",
    "  model.add(keras.layers.Dense(3, activation='softmax'))\n",
    "  model.compile(optimizer='adam',\n",
    "              loss=keras.losses.SparseCategoricalCrossentropy(),\n",
    "              metrics=['accuracy'])\n",
    "  return model\n",
    "\n",
    "tuner = RandomSearch(\n",
    "    x_model,\n",
    "    objective='val_accuracy',\n",
    "    max_trials=32,\n",
    ")\n",
    "\n",
    "tuner.search(train_images, train_labels, validation_data=(test_images, test_labels), epochs=10, batch_size=32)"
   ]
  },
  {
   "cell_type": "code",
   "execution_count": null,
   "metadata": {
    "colab": {},
    "colab_type": "code",
    "id": "r9P0a5vBf73I"
   },
   "outputs": [],
   "source": [
    "best_model = tuner.get_best_models()[0]"
   ]
  },
  {
   "cell_type": "code",
   "execution_count": null,
   "metadata": {
    "colab": {
     "base_uri": "https://localhost:8080/",
     "height": 89
    },
    "colab_type": "code",
    "id": "nGHOaROdixu_",
    "outputId": "f1ccb83d-a24f-4fdb-ef16-a3e8db327bd3"
   },
   "outputs": [],
   "source": [
    "best_model.evaluate(test_images, test_labels)"
   ]
  },
  {
   "cell_type": "code",
   "execution_count": null,
   "metadata": {
    "colab": {
     "base_uri": "https://localhost:8080/",
     "height": 434
    },
    "colab_type": "code",
    "id": "gghDwOKVi4xy",
    "outputId": "4c0da74a-ffb2-4741-eb3f-5a7f978858cd"
   },
   "outputs": [],
   "source": [
    "best_model.summary()"
   ]
  },
  {
   "cell_type": "code",
   "execution_count": null,
   "metadata": {
    "colab": {
     "base_uri": "https://localhost:8080/",
     "height": 832
    },
    "colab_type": "code",
    "id": "J1KjAhQQi8Bx",
    "outputId": "6eb11c61-d87d-428d-de3a-b634abf4a0d7"
   },
   "outputs": [],
   "source": [
    "tuner.results_summary()"
   ]
  },
  {
   "cell_type": "code",
   "execution_count": null,
   "metadata": {
    "colab": {
     "base_uri": "https://localhost:8080/",
     "height": 280
    },
    "colab_type": "code",
    "id": "x4DDZ2aAi_Qp",
    "outputId": "48d5d8ae-e8c7-44c3-dc9c-2d134d4d4743"
   },
   "outputs": [],
   "source": [
    "best_model.save('./my_model')"
   ]
  },
  {
   "cell_type": "code",
   "execution_count": null,
   "metadata": {
    "colab": {},
    "colab_type": "code",
    "id": "TDIVYSvqjG_C"
   },
   "outputs": [],
   "source": [
    "loaded_model = keras.models.load_model('./my_model')"
   ]
  },
  {
   "cell_type": "code",
   "execution_count": null,
   "metadata": {
    "colab": {
     "base_uri": "https://localhost:8080/",
     "height": 52
    },
    "colab_type": "code",
    "id": "YJwDzeXMjJ8Q",
    "outputId": "03363587-0210-4856-c026-b178a98592e3"
   },
   "outputs": [],
   "source": [
    "loaded_model.evaluate(test_images, test_labels)"
   ]
  },
  {
   "cell_type": "code",
   "execution_count": null,
   "metadata": {
    "colab": {
     "base_uri": "https://localhost:8080/",
     "height": 286
    },
    "colab_type": "code",
    "id": "-9fZsQrijLgs",
    "outputId": "c794716f-9dbd-4277-da3e-dae2e575a636"
   },
   "outputs": [],
   "source": [
    "#plot img from numpy array\n",
    "rgb_images = np.array([example['image'].numpy() for example in training_data.take(1)])\n",
    "rgb_image = rgb_images[0]\n",
    "\n",
    "image = train_images[0].reshape(300,300)\n",
    "\n",
    "plt.imshow(rgb_image)\n",
    "\n",
    "rgb_image.shape"
   ]
  },
  {
   "cell_type": "code",
   "execution_count": null,
   "metadata": {
    "colab": {
     "base_uri": "https://localhost:8080/",
     "height": 52
    },
    "colab_type": "code",
    "id": "QsobJNIHjN51",
    "outputId": "df6a0c66-6188-495e-ca60-14696ec05420"
   },
   "outputs": [],
   "source": [
    "result = best_model.predict(np.array([train_images[0]]))\n",
    "print(result)\n",
    "\n",
    "predicted_value = np.argmax(result)\n",
    "print(predicted_value)"
   ]
  },
  {
   "cell_type": "code",
   "execution_count": null,
   "metadata": {
    "colab": {
     "base_uri": "https://localhost:8080/",
     "height": 52
    },
    "colab_type": "code",
    "id": "TyQyW5O1jbJ7",
    "outputId": "863fda0b-0a26-45c8-d2be-371d6d4359ec"
   },
   "outputs": [],
   "source": []
  },
  {
   "cell_type": "code",
   "execution_count": null,
   "metadata": {
    "colab": {
     "base_uri": "https://localhost:8080/",
     "height": 52
    },
    "colab_type": "code",
    "id": "U8e-j45Xjjoj",
    "outputId": "272a3fd8-dba9-4a60-9272-373b236036a4"
   },
   "outputs": [],
   "source": [
    "#vonvert png/jpg to numpy format\n",
    "import imageio\n",
    "\n",
    "im = imageio.imread('.jpg')\n",
    "\n",
    "print(type(im))\n",
    "\n",
    "im_np = np.asarray(im)\n",
    "\n",
    "print(im_np.shape)"
   ]
  },
  {
   "cell_type": "code",
   "execution_count": null,
   "metadata": {
    "colab": {},
    "colab_type": "code",
    "id": "unpnZ4kEn0qI"
   },
   "outputs": [],
   "source": []
  }
 ],
 "metadata": {
  "accelerator": "GPU",
  "colab": {
   "collapsed_sections": [],
   "name": "image_class",
   "provenance": []
  },
  "kernelspec": {
   "display_name": "ali",
   "language": "python",
   "name": "ali"
  },
  "language_info": {
   "codemirror_mode": {
    "name": "ipython",
    "version": 3
   },
   "file_extension": ".py",
   "mimetype": "text/x-python",
   "name": "python",
   "nbconvert_exporter": "python",
   "pygments_lexer": "ipython3",
   "version": "3.7.9"
  }
 },
 "nbformat": 4,
 "nbformat_minor": 4
}
